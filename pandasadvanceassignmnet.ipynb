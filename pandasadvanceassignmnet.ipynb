{
 "cells": [
  {
   "cell_type": "code",
   "execution_count": 1,
   "id": "399ad727-f750-4d45-a6b2-b74464e247c7",
   "metadata": {},
   "outputs": [
    {
     "name": "stdout",
     "output_type": "stream",
     "text": [
      "head():\n",
      "   A  B   C\n",
      "0  1  5   9\n",
      "1  2  6  10\n",
      "\n",
      "describe():\n",
      "              A         B          C\n",
      "count  4.000000  4.000000   4.000000\n",
      "mean   2.500000  6.500000  10.500000\n",
      "std    1.290994  1.290994   1.290994\n",
      "min    1.000000  5.000000   9.000000\n",
      "25%    1.750000  5.750000   9.750000\n",
      "50%    2.500000  6.500000  10.500000\n",
      "75%    3.250000  7.250000  11.250000\n",
      "max    4.000000  8.000000  12.000000\n",
      "\n",
      "drop():\n",
      "   A   C\n",
      "0  1   9\n",
      "1  2  10\n",
      "2  3  11\n",
      "3  4  12\n",
      "\n",
      "sort_values():\n",
      "   A  B   C\n",
      "3  4  8  12\n",
      "2  3  7  11\n",
      "1  2  6  10\n",
      "0  1  5   9\n",
      "\n",
      "merge():\n",
      "  key  value_x  value_y\n",
      "0   B        2        4\n",
      "1   C        3        5\n"
     ]
    }
   ],
   "source": [
    "#Q1. List any five functions of the pandas library with execution\n",
    "import pandas as pd\n",
    "\n",
    "# Creating a sample DataFrame\n",
    "data = {\n",
    "    'A': [1, 2, 3, 4],\n",
    "    'B': [5, 6, 7, 8],\n",
    "    'C': [9, 10, 11, 12]\n",
    "}\n",
    "df = pd.DataFrame(data)\n",
    "\n",
    "# 1. head() - Returns the first n rows of the DataFrame\n",
    "print(\"head():\")\n",
    "print(df.head(2))\n",
    "\n",
    "# 2. describe() - Generates descriptive statistics\n",
    "print(\"\\ndescribe():\")\n",
    "print(df.describe())\n",
    "\n",
    "# 3. drop() - Drops specified labels from rows or columns\n",
    "print(\"\\ndrop():\")\n",
    "df_dropped = df.drop('B', axis=1)\n",
    "print(df_dropped)\n",
    "\n",
    "# 4. sort_values() - Sorts the DataFrame by specified column(s)\n",
    "print(\"\\nsort_values():\")\n",
    "df_sorted = df.sort_values(by='A', ascending=False)\n",
    "print(df_sorted)\n",
    "\n",
    "# 5. merge() - Merges DataFrame or named Series objects with a database-style join\n",
    "df1 = pd.DataFrame({'key': ['A', 'B', 'C'], 'value': [1, 2, 3]})\n",
    "df2 = pd.DataFrame({'key': ['B', 'C', 'D'], 'value': [4, 5, 6]})\n",
    "print(\"\\nmerge():\")\n",
    "df_merged = pd.merge(df1, df2, on='key')\n",
    "print(df_merged)\n"
   ]
  },
  {
   "cell_type": "code",
   "execution_count": 2,
   "id": "fef5a0bc-1c8e-4b57-9650-d63bfff3a938",
   "metadata": {},
   "outputs": [
    {
     "name": "stdout",
     "output_type": "stream",
     "text": [
      "\n",
      "Re-indexed DataFrame:\n",
      "   A  B   C\n",
      "1  1  5   9\n",
      "3  2  6  10\n",
      "5  3  7  11\n",
      "7  4  8  12\n"
     ]
    }
   ],
   "source": [
    "#Q2. Re-index the DataFrame with a new index that starts from 1 and increments by 2 for each row.\n",
    "def reindex_dataframe(df):\n",
    "    df.index = range(1, 2*len(df)+1, 2)\n",
    "    return df\n",
    "\n",
    "# Example DataFrame\n",
    "df = pd.DataFrame(data)\n",
    "df_reindexed = reindex_dataframe(df)\n",
    "print(\"\\nRe-indexed DataFrame:\")\n",
    "print(df_reindexed)\n"
   ]
  },
  {
   "cell_type": "code",
   "execution_count": 3,
   "id": "de1e64c4-3fc8-4567-acbe-445c49800143",
   "metadata": {},
   "outputs": [
    {
     "name": "stdout",
     "output_type": "stream",
     "text": [
      "Sum of the first three values: 60\n"
     ]
    }
   ],
   "source": [
    "#Q3. Calculate the sum of the first three values in the 'Values' column.\n",
    "def sum_first_three_values(df):\n",
    "    values_sum = df['Values'].head(3).sum()\n",
    "    print(f\"Sum of the first three values: {values_sum}\")\n",
    "\n",
    "# Example DataFrame\n",
    "df_values = pd.DataFrame({'Values': [10, 20, 30, 40, 50]})\n",
    "sum_first_three_values(df_values)\n"
   ]
  },
  {
   "cell_type": "code",
   "execution_count": 4,
   "id": "2e157044-db18-46f1-af42-b72a3330c4e1",
   "metadata": {},
   "outputs": [
    {
     "name": "stdout",
     "output_type": "stream",
     "text": [
      "\n",
      "DataFrame with Word_Count:\n",
      "                 Text  Word_Count\n",
      "0         Hello world           2\n",
      "1     Pandas is great           3\n",
      "2  This is an example           4\n"
     ]
    }
   ],
   "source": [
    "#Q4. Create a new column 'Word_Count' that contains the number of words in each row of the 'Text' column.\n",
    "def add_word_count_column(df):\n",
    "    df['Word_Count'] = df['Text'].apply(lambda x: len(str(x).split()))\n",
    "    return df\n",
    "\n",
    "# Example DataFrame\n",
    "df_text = pd.DataFrame({'Text': ['Hello world', 'Pandas is great', 'This is an example']})\n",
    "df_text = add_word_count_column(df_text)\n",
    "print(\"\\nDataFrame with Word_Count:\")\n",
    "print(df_text)\n"
   ]
  },
  {
   "cell_type": "code",
   "execution_count": 5,
   "id": "eb16e311-2f51-46ba-9c3f-15e157d12bb7",
   "metadata": {},
   "outputs": [],
   "source": [
    "# Q5. Difference between DataFrame.size() and DataFrame.shape().\n",
    "# DataFrame.size: Returns the number of elements in the DataFrame (rows * columns).\n",
    "# DataFrame.shape: Returns a tuple representing the dimensionality of the DataFrame (rows, columns)."
   ]
  },
  {
   "cell_type": "code",
   "execution_count": 6,
   "id": "15b9af6d-9235-4529-9712-9bfffaf2e629",
   "metadata": {},
   "outputs": [],
   "source": [
    "# Q6. Function to read an Excel file in pandas.\n",
    "# The function used to read an Excel file is pd.read_excel()\n",
    "# Example:\n",
    "# df = pd.read_excel('file_path.xlsx')\n"
   ]
  },
  {
   "cell_type": "code",
   "execution_count": 7,
   "id": "d584beac-4204-4681-a892-ac8455560b72",
   "metadata": {},
   "outputs": [
    {
     "name": "stdout",
     "output_type": "stream",
     "text": [
      "\n",
      "DataFrame with Username:\n",
      "                   Email    Username\n",
      "0   john.doe@example.com    john.doe\n",
      "1  jane.smith@domain.com  jane.smith\n"
     ]
    }
   ],
   "source": [
    "# Q7. Create a new column 'Username' in the DataFrame that contains only the username part of each email address.\n",
    "def extract_username(df):\n",
    "    df['Username'] = df['Email'].apply(lambda x: x.split('@')[0])\n",
    "    return df\n",
    "\n",
    "# Example DataFrame\n",
    "df_email = pd.DataFrame({'Email': ['john.doe@example.com', 'jane.smith@domain.com']})\n",
    "df_email = extract_username(df_email)\n",
    "print(\"\\nDataFrame with Username:\")\n",
    "print(df_email)\n"
   ]
  },
  {
   "cell_type": "code",
   "execution_count": 9,
   "id": "9e42141e-d328-4b63-a899-beb2d7f33b20",
   "metadata": {},
   "outputs": [
    {
     "name": "stdout",
     "output_type": "stream",
     "text": [
      "\n",
      "Selected DataFrame:\n",
      "   A  B  C\n",
      "1  8  2  7\n",
      "2  6  9  4\n",
      "4  9  1  2\n"
     ]
    }
   ],
   "source": [
    "#Q8. Select rows where the value in column 'A' is greater than 5 and the value in column 'B' is less than 10.\n",
    "def select_rows(df):\n",
    "    return df[(df['A'] > 5) & (df['B'] < 10)]\n",
    "\n",
    "# Example DataFrame\n",
    "df_selection = pd.DataFrame({'A': [3, 8, 6, 2, 9], 'B': [5, 2, 9, 3, 1], 'C': [1, 7, 4, 5, 2]})\n",
    "selected_df = select_rows(df_selection)\n",
    "print(\"\\nSelected DataFrame:\")\n",
    "print(selected_df)\n"
   ]
  },
  {
   "cell_type": "code",
   "execution_count": 10,
   "id": "f8d2a847-c5e9-42fb-9299-edf895909627",
   "metadata": {},
   "outputs": [
    {
     "name": "stdout",
     "output_type": "stream",
     "text": [
      "Mean: 30.0, Median: 30.0, Standard Deviation: 15.811388300841896\n"
     ]
    }
   ],
   "source": [
    "# Q9. Calculate the mean, median, and standard deviation of the values in the 'Values' column.\n",
    "def calculate_statistics(df):\n",
    "    mean = df['Values'].mean()\n",
    "    median = df['Values'].median()\n",
    "    std_dev = df['Values'].std()\n",
    "    print(f\"Mean: {mean}, Median: {median}, Standard Deviation: {std_dev}\")\n",
    "\n",
    "# Example DataFrame\n",
    "df_stats = pd.DataFrame({'Values': [10, 20, 30, 40, 50]})\n",
    "calculate_statistics(df_stats)\n"
   ]
  },
  {
   "cell_type": "code",
   "execution_count": 13,
   "id": "f96939ee-5e13-44b2-ab5e-281dbba790f3",
   "metadata": {},
   "outputs": [
    {
     "name": "stdout",
     "output_type": "stream",
     "text": [
      "\n",
      "DataFrame with MovingAverage:\n",
      "        Date  Sales  MovingAverage\n",
      "0 2023-01-01    200            NaN\n",
      "1 2023-01-02    210            NaN\n",
      "2 2023-01-03    215            NaN\n",
      "3 2023-01-04    220            NaN\n",
      "4 2023-01-05    225            NaN\n",
      "5 2023-01-06    230            NaN\n",
      "6 2023-01-07    235     219.285714\n",
      "7 2023-01-08    240     225.000000\n",
      "8 2023-01-09    245     230.000000\n",
      "9 2023-01-10    250     235.000000\n"
     ]
    }
   ],
   "source": [
    "\n",
    "\n",
    "# Q10. Create a new column 'MovingAverage' that contains the moving average of the sales for the past 7 days.\n",
    "def add_moving_average(df):\n",
    "    df['MovingAverage'] = df['Sales'].rolling(window=7).mean()\n",
    "    return df\n",
    "\n",
    "# Example DataFrame\n",
    "df_sales = pd.DataFrame({'Date': pd.date_range(start='1/1/2023', periods=10),\n",
    "                         'Sales': [200, 210, 215, 220, 225, 230, 235, 240, 245, 250]})\n",
    "df_sales = add_moving_average(df_sales)\n",
    "print(\"\\nDataFrame with MovingAverage:\")\n",
    "print(df_sales)\n"
   ]
  },
  {
   "cell_type": "code",
   "execution_count": 14,
   "id": "2c9e502c-3ad6-445c-9ed9-1f3c2f1419af",
   "metadata": {},
   "outputs": [
    {
     "name": "stdout",
     "output_type": "stream",
     "text": [
      "\n",
      "DataFrame with Weekday:\n",
      "        Date    Weekday\n",
      "0 2023-01-01     Sunday\n",
      "1 2023-01-02     Monday\n",
      "2 2023-01-03    Tuesday\n",
      "3 2023-01-04  Wednesday\n",
      "4 2023-01-05   Thursday\n"
     ]
    }
   ],
   "source": [
    "# Q11. Create a new column 'Weekday' that contains the weekday name corresponding to each date.\n",
    "def add_weekday_column(df):\n",
    "    df['Weekday'] = pd.to_datetime(df['Date']).dt.day_name()\n",
    "    return df\n",
    "\n",
    "# Example DataFrame\n",
    "df_date = pd.DataFrame({'Date': pd.date_range(start='1/1/2023', periods=5)})\n",
    "df_date = add_weekday_column(df_date)\n",
    "print(\"\\nDataFrame with Weekday:\")\n",
    "print(df_date)\n"
   ]
  },
  {
   "cell_type": "code",
   "execution_count": null,
   "id": "2870c53b-2a51-49e4-a810-907772715379",
   "metadata": {},
   "outputs": [],
   "source": []
  }
 ],
 "metadata": {
  "kernelspec": {
   "display_name": "Python 3 (ipykernel)",
   "language": "python",
   "name": "python3"
  },
  "language_info": {
   "codemirror_mode": {
    "name": "ipython",
    "version": 3
   },
   "file_extension": ".py",
   "mimetype": "text/x-python",
   "name": "python",
   "nbconvert_exporter": "python",
   "pygments_lexer": "ipython3",
   "version": "3.10.8"
  }
 },
 "nbformat": 4,
 "nbformat_minor": 5
}
